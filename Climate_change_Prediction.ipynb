{
  "nbformat": 4,
  "nbformat_minor": 0,
  "metadata": {
    "colab": {
      "name": "Climate change Prediction",
      "provenance": [],
      "collapsed_sections": []
    },
    "kernelspec": {
      "name": "python3",
      "display_name": "Python 3"
    },
    "language_info": {
      "name": "python"
    }
  },
  "cells": [
    {
      "cell_type": "code",
      "metadata": {
        "colab": {
          "base_uri": "https://localhost:8080/"
        },
        "id": "wLSMay30iuZO",
        "outputId": "d5c8d3c0-d248-4608-82bc-97d585b376de"
      },
      "source": [
        "#importing the librairies\n",
        "import pandas as pd\n",
        "from datetime import datetime,timedelta \n",
        "import matplotlib.pyplot as plt \n",
        "import numpy as np \n",
        "from statsmodels.tsa.seasonal import seasonal_decompose \n",
        "import seaborn as sns \n",
        "\n",
        "%matplotlib inline \n",
        "\n",
        "import warnings \n",
        "warnings.filterwarnings('ignore')"
      ],
      "execution_count": null,
      "outputs": [
        {
          "output_type": "stream",
          "text": [
            "/usr/local/lib/python3.7/dist-packages/statsmodels/tools/_testing.py:19: FutureWarning: pandas.util.testing is deprecated. Use the functions in the public API at pandas.testing instead.\n",
            "  import pandas.util.testing as tm\n"
          ],
          "name": "stderr"
        }
      ]
    },
    {
      "cell_type": "markdown",
      "metadata": {
        "id": "WvLXWf0aJBXD"
      },
      "source": [
        "#Data Preparation"
      ]
    },
    {
      "cell_type": "markdown",
      "metadata": {
        "id": "khsWuOAQJd8K"
      },
      "source": [
        "We are going to use Climate Change: Earth Surface Temperature Data .\n",
        "It is provided on Kaggle: https://www.kaggle.com/berkeleyearth/climate-change-earth-surface-temperature-data\n"
      ]
    },
    {
      "cell_type": "code",
      "metadata": {
        "id": "kMV788AsmvqW"
      },
      "source": [
        "df=pd.read_csv('GlobalLandTemperaturesByCity.csv')\n",
        "#link: https://www.kaggle.com/berkeleyearth/climate-change-earth-surface-temperature-data"
      ],
      "execution_count": null,
      "outputs": []
    },
    {
      "cell_type": "markdown",
      "metadata": {
        "id": "EoaeIdSGKHgK"
      },
      "source": [
        "First, let's go through our data to check the columns, the data types and the shape."
      ]
    },
    {
      "cell_type": "code",
      "metadata": {
        "colab": {
          "base_uri": "https://localhost:8080/",
          "height": 203
        },
        "id": "DGDT38EMxbie",
        "outputId": "f77a7e0f-e6d7-4a48-9135-d68789e721b2"
      },
      "source": [
        "df.head()"
      ],
      "execution_count": null,
      "outputs": [
        {
          "output_type": "execute_result",
          "data": {
            "text/html": [
              "<div>\n",
              "<style scoped>\n",
              "    .dataframe tbody tr th:only-of-type {\n",
              "        vertical-align: middle;\n",
              "    }\n",
              "\n",
              "    .dataframe tbody tr th {\n",
              "        vertical-align: top;\n",
              "    }\n",
              "\n",
              "    .dataframe thead th {\n",
              "        text-align: right;\n",
              "    }\n",
              "</style>\n",
              "<table border=\"1\" class=\"dataframe\">\n",
              "  <thead>\n",
              "    <tr style=\"text-align: right;\">\n",
              "      <th></th>\n",
              "      <th>dt</th>\n",
              "      <th>AverageTemperature</th>\n",
              "      <th>AverageTemperatureUncertainty</th>\n",
              "      <th>City</th>\n",
              "      <th>Country</th>\n",
              "      <th>Latitude</th>\n",
              "      <th>Longitude</th>\n",
              "    </tr>\n",
              "  </thead>\n",
              "  <tbody>\n",
              "    <tr>\n",
              "      <th>0</th>\n",
              "      <td>1743-11-01</td>\n",
              "      <td>6.068</td>\n",
              "      <td>1.737</td>\n",
              "      <td>Århus</td>\n",
              "      <td>Denmark</td>\n",
              "      <td>57.05N</td>\n",
              "      <td>10.33E</td>\n",
              "    </tr>\n",
              "    <tr>\n",
              "      <th>1</th>\n",
              "      <td>1743-12-01</td>\n",
              "      <td>NaN</td>\n",
              "      <td>NaN</td>\n",
              "      <td>Århus</td>\n",
              "      <td>Denmark</td>\n",
              "      <td>57.05N</td>\n",
              "      <td>10.33E</td>\n",
              "    </tr>\n",
              "    <tr>\n",
              "      <th>2</th>\n",
              "      <td>1744-01-01</td>\n",
              "      <td>NaN</td>\n",
              "      <td>NaN</td>\n",
              "      <td>Århus</td>\n",
              "      <td>Denmark</td>\n",
              "      <td>57.05N</td>\n",
              "      <td>10.33E</td>\n",
              "    </tr>\n",
              "    <tr>\n",
              "      <th>3</th>\n",
              "      <td>1744-02-01</td>\n",
              "      <td>NaN</td>\n",
              "      <td>NaN</td>\n",
              "      <td>Århus</td>\n",
              "      <td>Denmark</td>\n",
              "      <td>57.05N</td>\n",
              "      <td>10.33E</td>\n",
              "    </tr>\n",
              "    <tr>\n",
              "      <th>4</th>\n",
              "      <td>1744-03-01</td>\n",
              "      <td>NaN</td>\n",
              "      <td>NaN</td>\n",
              "      <td>Århus</td>\n",
              "      <td>Denmark</td>\n",
              "      <td>57.05N</td>\n",
              "      <td>10.33E</td>\n",
              "    </tr>\n",
              "  </tbody>\n",
              "</table>\n",
              "</div>"
            ],
            "text/plain": [
              "           dt  AverageTemperature  ...  Latitude Longitude\n",
              "0  1743-11-01               6.068  ...    57.05N    10.33E\n",
              "1  1743-12-01                 NaN  ...    57.05N    10.33E\n",
              "2  1744-01-01                 NaN  ...    57.05N    10.33E\n",
              "3  1744-02-01                 NaN  ...    57.05N    10.33E\n",
              "4  1744-03-01                 NaN  ...    57.05N    10.33E\n",
              "\n",
              "[5 rows x 7 columns]"
            ]
          },
          "metadata": {
            "tags": []
          },
          "execution_count": 4
        }
      ]
    },
    {
      "cell_type": "code",
      "metadata": {
        "colab": {
          "base_uri": "https://localhost:8080/"
        },
        "id": "IfD33xK9yGpf",
        "outputId": "d296f05d-520e-4855-aba7-5f29cbba8f8e"
      },
      "source": [
        "df.dtypes"
      ],
      "execution_count": null,
      "outputs": [
        {
          "output_type": "execute_result",
          "data": {
            "text/plain": [
              "dt                                object\n",
              "AverageTemperature               float64\n",
              "AverageTemperatureUncertainty    float64\n",
              "City                              object\n",
              "Country                           object\n",
              "Latitude                          object\n",
              "Longitude                         object\n",
              "dtype: object"
            ]
          },
          "metadata": {
            "tags": []
          },
          "execution_count": 5
        }
      ]
    },
    {
      "cell_type": "code",
      "metadata": {
        "colab": {
          "base_uri": "https://localhost:8080/"
        },
        "id": "iufst2_S64Yo",
        "outputId": "da5aabc2-9e90-401d-ff12-6f2d989816cf"
      },
      "source": [
        "df.shape"
      ],
      "execution_count": null,
      "outputs": [
        {
          "output_type": "execute_result",
          "data": {
            "text/plain": [
              "(907542, 7)"
            ]
          },
          "metadata": {
            "tags": []
          },
          "execution_count": 6
        }
      ]
    },
    {
      "cell_type": "markdown",
      "metadata": {
        "id": "pC4fGdxfLJsg"
      },
      "source": [
        "Now, let's check if there is any null values."
      ]
    },
    {
      "cell_type": "code",
      "metadata": {
        "colab": {
          "base_uri": "https://localhost:8080/"
        },
        "id": "56-yQbDv7k6S",
        "outputId": "7fc8e3da-2cae-405a-9c98-779ddda04e1e"
      },
      "source": [
        "df.isnull().sum()"
      ],
      "execution_count": null,
      "outputs": [
        {
          "output_type": "execute_result",
          "data": {
            "text/plain": [
              "dt                                   0\n",
              "AverageTemperature               40299\n",
              "AverageTemperatureUncertainty    40299\n",
              "City                                 0\n",
              "Country                              0\n",
              "Latitude                             0\n",
              "Longitude                            0\n",
              "dtype: int64"
            ]
          },
          "metadata": {
            "tags": []
          },
          "execution_count": 7
        }
      ]
    },
    {
      "cell_type": "markdown",
      "metadata": {
        "id": "wGN8A7tuLY_Y"
      },
      "source": [
        "So, we have 15 760 null values for Average temperature and Average Temperature Uncertainty. \n",
        "Since we have a large dataset, let's drop the rows that has null values in it. "
      ]
    },
    {
      "cell_type": "code",
      "metadata": {
        "id": "LhBU_w2H77QS"
      },
      "source": [
        "df=df.dropna(how='any',axis=0)"
      ],
      "execution_count": null,
      "outputs": []
    },
    {
      "cell_type": "code",
      "metadata": {
        "colab": {
          "base_uri": "https://localhost:8080/"
        },
        "id": "aRyWrEsx8VnV",
        "outputId": "a9f72201-97ef-452c-ceb6-cc6625b13a79"
      },
      "source": [
        "df.shape"
      ],
      "execution_count": null,
      "outputs": [
        {
          "output_type": "execute_result",
          "data": {
            "text/plain": [
              "(867243, 7)"
            ]
          },
          "metadata": {
            "tags": []
          },
          "execution_count": 9
        }
      ]
    },
    {
      "cell_type": "markdown",
      "metadata": {
        "id": "DXdE0EAyMopJ"
      },
      "source": [
        "Let's change the name of the columns to simpler, clearer and shorter name. "
      ]
    },
    {
      "cell_type": "code",
      "metadata": {
        "colab": {
          "base_uri": "https://localhost:8080/",
          "height": 203
        },
        "id": "0B85ge6S8bxA",
        "outputId": "5aca1c2b-3238-475f-e07b-3ef46106d927"
      },
      "source": [
        "df=df.rename(columns={'dt':'Date','AverageTemperature':'Avg_temp','AverageTemperatureUncertainty':'Avg_temp_uncertainty'})\n",
        "df.head()"
      ],
      "execution_count": null,
      "outputs": [
        {
          "output_type": "execute_result",
          "data": {
            "text/html": [
              "<div>\n",
              "<style scoped>\n",
              "    .dataframe tbody tr th:only-of-type {\n",
              "        vertical-align: middle;\n",
              "    }\n",
              "\n",
              "    .dataframe tbody tr th {\n",
              "        vertical-align: top;\n",
              "    }\n",
              "\n",
              "    .dataframe thead th {\n",
              "        text-align: right;\n",
              "    }\n",
              "</style>\n",
              "<table border=\"1\" class=\"dataframe\">\n",
              "  <thead>\n",
              "    <tr style=\"text-align: right;\">\n",
              "      <th></th>\n",
              "      <th>Date</th>\n",
              "      <th>Avg_temp</th>\n",
              "      <th>Avg_temp_uncertainty</th>\n",
              "      <th>City</th>\n",
              "      <th>Country</th>\n",
              "      <th>Latitude</th>\n",
              "      <th>Longitude</th>\n",
              "    </tr>\n",
              "  </thead>\n",
              "  <tbody>\n",
              "    <tr>\n",
              "      <th>0</th>\n",
              "      <td>1743-11-01</td>\n",
              "      <td>6.068</td>\n",
              "      <td>1.737</td>\n",
              "      <td>Århus</td>\n",
              "      <td>Denmark</td>\n",
              "      <td>57.05N</td>\n",
              "      <td>10.33E</td>\n",
              "    </tr>\n",
              "    <tr>\n",
              "      <th>5</th>\n",
              "      <td>1744-04-01</td>\n",
              "      <td>5.788</td>\n",
              "      <td>3.624</td>\n",
              "      <td>Århus</td>\n",
              "      <td>Denmark</td>\n",
              "      <td>57.05N</td>\n",
              "      <td>10.33E</td>\n",
              "    </tr>\n",
              "    <tr>\n",
              "      <th>6</th>\n",
              "      <td>1744-05-01</td>\n",
              "      <td>10.644</td>\n",
              "      <td>1.283</td>\n",
              "      <td>Århus</td>\n",
              "      <td>Denmark</td>\n",
              "      <td>57.05N</td>\n",
              "      <td>10.33E</td>\n",
              "    </tr>\n",
              "    <tr>\n",
              "      <th>7</th>\n",
              "      <td>1744-06-01</td>\n",
              "      <td>14.051</td>\n",
              "      <td>1.347</td>\n",
              "      <td>Århus</td>\n",
              "      <td>Denmark</td>\n",
              "      <td>57.05N</td>\n",
              "      <td>10.33E</td>\n",
              "    </tr>\n",
              "    <tr>\n",
              "      <th>8</th>\n",
              "      <td>1744-07-01</td>\n",
              "      <td>16.082</td>\n",
              "      <td>1.396</td>\n",
              "      <td>Århus</td>\n",
              "      <td>Denmark</td>\n",
              "      <td>57.05N</td>\n",
              "      <td>10.33E</td>\n",
              "    </tr>\n",
              "  </tbody>\n",
              "</table>\n",
              "</div>"
            ],
            "text/plain": [
              "         Date  Avg_temp  Avg_temp_uncertainty  ...  Country Latitude Longitude\n",
              "0  1743-11-01     6.068                 1.737  ...  Denmark   57.05N    10.33E\n",
              "5  1744-04-01     5.788                 3.624  ...  Denmark   57.05N    10.33E\n",
              "6  1744-05-01    10.644                 1.283  ...  Denmark   57.05N    10.33E\n",
              "7  1744-06-01    14.051                 1.347  ...  Denmark   57.05N    10.33E\n",
              "8  1744-07-01    16.082                 1.396  ...  Denmark   57.05N    10.33E\n",
              "\n",
              "[5 rows x 7 columns]"
            ]
          },
          "metadata": {
            "tags": []
          },
          "execution_count": 10
        }
      ]
    },
    {
      "cell_type": "markdown",
      "metadata": {
        "id": "Ba_gyWcHM6Yo"
      },
      "source": [
        "We are going to make the date column the index of our dataset.\n",
        "We have to convert first the content of this column to dateTime.Then, we convert this column into index. "
      ]
    },
    {
      "cell_type": "code",
      "metadata": {
        "colab": {
          "base_uri": "https://localhost:8080/"
        },
        "id": "7EybReGu9iU5",
        "outputId": "f01363d3-a3be-42bf-86e0-af96335bf10a"
      },
      "source": [
        "df['Date']=pd.to_datetime(df['Date'])\n",
        "df.set_index('Date',inplace=True)\n",
        "df.index"
      ],
      "execution_count": null,
      "outputs": [
        {
          "output_type": "execute_result",
          "data": {
            "text/plain": [
              "DatetimeIndex(['1743-11-01', '1744-04-01', '1744-05-01', '1744-06-01',\n",
              "               '1744-07-01', '1744-09-01', '1744-10-01', '1744-11-01',\n",
              "               '1744-12-01', '1745-01-01',\n",
              "               ...\n",
              "               '2008-06-01', '2008-07-01', '2008-08-01', '2008-09-01',\n",
              "               '2008-10-01', '2008-11-01', '2008-12-01', '2009-01-01',\n",
              "               '2009-02-01', '2009-03-01'],\n",
              "              dtype='datetime64[ns]', name='Date', length=867243, freq=None)"
            ]
          },
          "metadata": {
            "tags": []
          },
          "execution_count": 11
        }
      ]
    },
    {
      "cell_type": "markdown",
      "metadata": {
        "id": "6cfJdCg7NlQ9"
      },
      "source": [
        "Let's discover more our dataset by describing it. "
      ]
    },
    {
      "cell_type": "code",
      "metadata": {
        "colab": {
          "base_uri": "https://localhost:8080/",
          "height": 295
        },
        "id": "qcNosAU6-4fb",
        "outputId": "711aa258-2708-4d5c-a712-fe642615d0eb"
      },
      "source": [
        "df.describe()"
      ],
      "execution_count": null,
      "outputs": [
        {
          "output_type": "execute_result",
          "data": {
            "text/html": [
              "<div>\n",
              "<style scoped>\n",
              "    .dataframe tbody tr th:only-of-type {\n",
              "        vertical-align: middle;\n",
              "    }\n",
              "\n",
              "    .dataframe tbody tr th {\n",
              "        vertical-align: top;\n",
              "    }\n",
              "\n",
              "    .dataframe thead th {\n",
              "        text-align: right;\n",
              "    }\n",
              "</style>\n",
              "<table border=\"1\" class=\"dataframe\">\n",
              "  <thead>\n",
              "    <tr style=\"text-align: right;\">\n",
              "      <th></th>\n",
              "      <th>Avg_temp</th>\n",
              "      <th>Avg_temp_uncertainty</th>\n",
              "    </tr>\n",
              "  </thead>\n",
              "  <tbody>\n",
              "    <tr>\n",
              "      <th>count</th>\n",
              "      <td>867243.000000</td>\n",
              "      <td>867243.000000</td>\n",
              "    </tr>\n",
              "    <tr>\n",
              "      <th>mean</th>\n",
              "      <td>17.800819</td>\n",
              "      <td>1.027355</td>\n",
              "    </tr>\n",
              "    <tr>\n",
              "      <th>std</th>\n",
              "      <td>10.390281</td>\n",
              "      <td>1.078826</td>\n",
              "    </tr>\n",
              "    <tr>\n",
              "      <th>min</th>\n",
              "      <td>-31.312000</td>\n",
              "      <td>0.036000</td>\n",
              "    </tr>\n",
              "    <tr>\n",
              "      <th>25%</th>\n",
              "      <td>11.944000</td>\n",
              "      <td>0.347000</td>\n",
              "    </tr>\n",
              "    <tr>\n",
              "      <th>50%</th>\n",
              "      <td>20.341000</td>\n",
              "      <td>0.608000</td>\n",
              "    </tr>\n",
              "    <tr>\n",
              "      <th>75%</th>\n",
              "      <td>25.802000</td>\n",
              "      <td>1.383000</td>\n",
              "    </tr>\n",
              "    <tr>\n",
              "      <th>max</th>\n",
              "      <td>39.156000</td>\n",
              "      <td>15.030000</td>\n",
              "    </tr>\n",
              "  </tbody>\n",
              "</table>\n",
              "</div>"
            ],
            "text/plain": [
              "            Avg_temp  Avg_temp_uncertainty\n",
              "count  867243.000000         867243.000000\n",
              "mean       17.800819              1.027355\n",
              "std        10.390281              1.078826\n",
              "min       -31.312000              0.036000\n",
              "25%        11.944000              0.347000\n",
              "50%        20.341000              0.608000\n",
              "75%        25.802000              1.383000\n",
              "max        39.156000             15.030000"
            ]
          },
          "metadata": {
            "tags": []
          },
          "execution_count": 12
        }
      ]
    },
    {
      "cell_type": "markdown",
      "metadata": {
        "id": "gXrUWH8rNyyj"
      },
      "source": [
        "We can see that the minimum average temperature is -31. While the maximum average temperature is 39. The mean is around 17"
      ]
    },
    {
      "cell_type": "markdown",
      "metadata": {
        "id": "JnKcESJ8ONlG"
      },
      "source": [
        "Now, we are going to create a separate year column in our dataset. \n",
        "Since the index is a DateTime object we can extract the year from it. "
      ]
    },
    {
      "cell_type": "code",
      "metadata": {
        "colab": {
          "base_uri": "https://localhost:8080/",
          "height": 234
        },
        "id": "wzaDWKgJ-8R5",
        "outputId": "b5f0d841-38a0-47ea-b28d-2969b7270a2a"
      },
      "source": [
        "df['Year']=df.index.year\n",
        "df.head()"
      ],
      "execution_count": null,
      "outputs": [
        {
          "output_type": "execute_result",
          "data": {
            "text/html": [
              "<div>\n",
              "<style scoped>\n",
              "    .dataframe tbody tr th:only-of-type {\n",
              "        vertical-align: middle;\n",
              "    }\n",
              "\n",
              "    .dataframe tbody tr th {\n",
              "        vertical-align: top;\n",
              "    }\n",
              "\n",
              "    .dataframe thead th {\n",
              "        text-align: right;\n",
              "    }\n",
              "</style>\n",
              "<table border=\"1\" class=\"dataframe\">\n",
              "  <thead>\n",
              "    <tr style=\"text-align: right;\">\n",
              "      <th></th>\n",
              "      <th>Avg_temp</th>\n",
              "      <th>Avg_temp_uncertainty</th>\n",
              "      <th>City</th>\n",
              "      <th>Country</th>\n",
              "      <th>Latitude</th>\n",
              "      <th>Longitude</th>\n",
              "      <th>Year</th>\n",
              "    </tr>\n",
              "    <tr>\n",
              "      <th>Date</th>\n",
              "      <th></th>\n",
              "      <th></th>\n",
              "      <th></th>\n",
              "      <th></th>\n",
              "      <th></th>\n",
              "      <th></th>\n",
              "      <th></th>\n",
              "    </tr>\n",
              "  </thead>\n",
              "  <tbody>\n",
              "    <tr>\n",
              "      <th>1743-11-01</th>\n",
              "      <td>6.068</td>\n",
              "      <td>1.737</td>\n",
              "      <td>Århus</td>\n",
              "      <td>Denmark</td>\n",
              "      <td>57.05N</td>\n",
              "      <td>10.33E</td>\n",
              "      <td>1743</td>\n",
              "    </tr>\n",
              "    <tr>\n",
              "      <th>1744-04-01</th>\n",
              "      <td>5.788</td>\n",
              "      <td>3.624</td>\n",
              "      <td>Århus</td>\n",
              "      <td>Denmark</td>\n",
              "      <td>57.05N</td>\n",
              "      <td>10.33E</td>\n",
              "      <td>1744</td>\n",
              "    </tr>\n",
              "    <tr>\n",
              "      <th>1744-05-01</th>\n",
              "      <td>10.644</td>\n",
              "      <td>1.283</td>\n",
              "      <td>Århus</td>\n",
              "      <td>Denmark</td>\n",
              "      <td>57.05N</td>\n",
              "      <td>10.33E</td>\n",
              "      <td>1744</td>\n",
              "    </tr>\n",
              "    <tr>\n",
              "      <th>1744-06-01</th>\n",
              "      <td>14.051</td>\n",
              "      <td>1.347</td>\n",
              "      <td>Århus</td>\n",
              "      <td>Denmark</td>\n",
              "      <td>57.05N</td>\n",
              "      <td>10.33E</td>\n",
              "      <td>1744</td>\n",
              "    </tr>\n",
              "    <tr>\n",
              "      <th>1744-07-01</th>\n",
              "      <td>16.082</td>\n",
              "      <td>1.396</td>\n",
              "      <td>Århus</td>\n",
              "      <td>Denmark</td>\n",
              "      <td>57.05N</td>\n",
              "      <td>10.33E</td>\n",
              "      <td>1744</td>\n",
              "    </tr>\n",
              "  </tbody>\n",
              "</table>\n",
              "</div>"
            ],
            "text/plain": [
              "            Avg_temp  Avg_temp_uncertainty   City  ... Latitude Longitude  Year\n",
              "Date                                               ...                         \n",
              "1743-11-01     6.068                 1.737  Århus  ...   57.05N    10.33E  1743\n",
              "1744-04-01     5.788                 3.624  Århus  ...   57.05N    10.33E  1744\n",
              "1744-05-01    10.644                 1.283  Århus  ...   57.05N    10.33E  1744\n",
              "1744-06-01    14.051                 1.347  Århus  ...   57.05N    10.33E  1744\n",
              "1744-07-01    16.082                 1.396  Århus  ...   57.05N    10.33E  1744\n",
              "\n",
              "[5 rows x 7 columns]"
            ]
          },
          "metadata": {
            "tags": []
          },
          "execution_count": 13
        }
      ]
    },
    {
      "cell_type": "markdown",
      "metadata": {
        "id": "XwbfBn5hOssf"
      },
      "source": [
        "The year column has been added to our data frame.\n",
        "\n",
        "---\n",
        "Let's see now what are the minimum and maximum year that we have.\n",
        "\n"
      ]
    },
    {
      "cell_type": "code",
      "metadata": {
        "colab": {
          "base_uri": "https://localhost:8080/",
          "height": 295
        },
        "id": "DczWJMb7B0aX",
        "outputId": "6070485d-ea18-4e8c-c25f-dfc1cebe2fe0"
      },
      "source": [
        "df.describe()"
      ],
      "execution_count": null,
      "outputs": [
        {
          "output_type": "execute_result",
          "data": {
            "text/html": [
              "<div>\n",
              "<style scoped>\n",
              "    .dataframe tbody tr th:only-of-type {\n",
              "        vertical-align: middle;\n",
              "    }\n",
              "\n",
              "    .dataframe tbody tr th {\n",
              "        vertical-align: top;\n",
              "    }\n",
              "\n",
              "    .dataframe thead th {\n",
              "        text-align: right;\n",
              "    }\n",
              "</style>\n",
              "<table border=\"1\" class=\"dataframe\">\n",
              "  <thead>\n",
              "    <tr style=\"text-align: right;\">\n",
              "      <th></th>\n",
              "      <th>Avg_temp</th>\n",
              "      <th>Avg_temp_uncertainty</th>\n",
              "      <th>Year</th>\n",
              "    </tr>\n",
              "  </thead>\n",
              "  <tbody>\n",
              "    <tr>\n",
              "      <th>count</th>\n",
              "      <td>867243.000000</td>\n",
              "      <td>867243.000000</td>\n",
              "      <td>867243.000000</td>\n",
              "    </tr>\n",
              "    <tr>\n",
              "      <th>mean</th>\n",
              "      <td>17.800819</td>\n",
              "      <td>1.027355</td>\n",
              "      <td>1910.315494</td>\n",
              "    </tr>\n",
              "    <tr>\n",
              "      <th>std</th>\n",
              "      <td>10.390281</td>\n",
              "      <td>1.078826</td>\n",
              "      <td>63.840112</td>\n",
              "    </tr>\n",
              "    <tr>\n",
              "      <th>min</th>\n",
              "      <td>-31.312000</td>\n",
              "      <td>0.036000</td>\n",
              "      <td>1743.000000</td>\n",
              "    </tr>\n",
              "    <tr>\n",
              "      <th>25%</th>\n",
              "      <td>11.944000</td>\n",
              "      <td>0.347000</td>\n",
              "      <td>1863.000000</td>\n",
              "    </tr>\n",
              "    <tr>\n",
              "      <th>50%</th>\n",
              "      <td>20.341000</td>\n",
              "      <td>0.608000</td>\n",
              "      <td>1914.000000</td>\n",
              "    </tr>\n",
              "    <tr>\n",
              "      <th>75%</th>\n",
              "      <td>25.802000</td>\n",
              "      <td>1.383000</td>\n",
              "      <td>1964.000000</td>\n",
              "    </tr>\n",
              "    <tr>\n",
              "      <th>max</th>\n",
              "      <td>39.156000</td>\n",
              "      <td>15.030000</td>\n",
              "      <td>2013.000000</td>\n",
              "    </tr>\n",
              "  </tbody>\n",
              "</table>\n",
              "</div>"
            ],
            "text/plain": [
              "            Avg_temp  Avg_temp_uncertainty           Year\n",
              "count  867243.000000         867243.000000  867243.000000\n",
              "mean       17.800819              1.027355    1910.315494\n",
              "std        10.390281              1.078826      63.840112\n",
              "min       -31.312000              0.036000    1743.000000\n",
              "25%        11.944000              0.347000    1863.000000\n",
              "50%        20.341000              0.608000    1914.000000\n",
              "75%        25.802000              1.383000    1964.000000\n",
              "max        39.156000             15.030000    2013.000000"
            ]
          },
          "metadata": {
            "tags": []
          },
          "execution_count": 14
        }
      ]
    },
    {
      "cell_type": "markdown",
      "metadata": {
        "id": "2rTFqYWgPLY0"
      },
      "source": [
        "It starts from 1743 and ends in 2013.\n",
        "So, let's take a range from 1960 to 2013 in order to analyze the data."
      ]
    },
    {
      "cell_type": "code",
      "metadata": {
        "colab": {
          "base_uri": "https://localhost:8080/",
          "height": 234
        },
        "id": "rC-Q8PaGCGPw",
        "outputId": "fbc0ab34-0dc1-441d-c575-f19e26e0ecf8"
      },
      "source": [
        "latest_df=df.loc['1980':'2013']\n",
        "#Access group of values using labels\n",
        "#we have selected from our dataset the observations from 1980 to 2013\n",
        "latest_df.head()\n"
      ],
      "execution_count": null,
      "outputs": [
        {
          "output_type": "execute_result",
          "data": {
            "text/html": [
              "<div>\n",
              "<style scoped>\n",
              "    .dataframe tbody tr th:only-of-type {\n",
              "        vertical-align: middle;\n",
              "    }\n",
              "\n",
              "    .dataframe tbody tr th {\n",
              "        vertical-align: top;\n",
              "    }\n",
              "\n",
              "    .dataframe thead th {\n",
              "        text-align: right;\n",
              "    }\n",
              "</style>\n",
              "<table border=\"1\" class=\"dataframe\">\n",
              "  <thead>\n",
              "    <tr style=\"text-align: right;\">\n",
              "      <th></th>\n",
              "      <th>Avg_temp</th>\n",
              "      <th>Avg_temp_uncertainty</th>\n",
              "      <th>City</th>\n",
              "      <th>Country</th>\n",
              "      <th>Latitude</th>\n",
              "      <th>Longitude</th>\n",
              "      <th>Year</th>\n",
              "    </tr>\n",
              "    <tr>\n",
              "      <th>Date</th>\n",
              "      <th></th>\n",
              "      <th></th>\n",
              "      <th></th>\n",
              "      <th></th>\n",
              "      <th></th>\n",
              "      <th></th>\n",
              "      <th></th>\n",
              "    </tr>\n",
              "  </thead>\n",
              "  <tbody>\n",
              "    <tr>\n",
              "      <th>1980-01-01</th>\n",
              "      <td>-1.850</td>\n",
              "      <td>0.363</td>\n",
              "      <td>Århus</td>\n",
              "      <td>Denmark</td>\n",
              "      <td>57.05N</td>\n",
              "      <td>10.33E</td>\n",
              "      <td>1980</td>\n",
              "    </tr>\n",
              "    <tr>\n",
              "      <th>1980-02-01</th>\n",
              "      <td>-2.171</td>\n",
              "      <td>0.377</td>\n",
              "      <td>Århus</td>\n",
              "      <td>Denmark</td>\n",
              "      <td>57.05N</td>\n",
              "      <td>10.33E</td>\n",
              "      <td>1980</td>\n",
              "    </tr>\n",
              "    <tr>\n",
              "      <th>1980-03-01</th>\n",
              "      <td>0.625</td>\n",
              "      <td>0.178</td>\n",
              "      <td>Århus</td>\n",
              "      <td>Denmark</td>\n",
              "      <td>57.05N</td>\n",
              "      <td>10.33E</td>\n",
              "      <td>1980</td>\n",
              "    </tr>\n",
              "    <tr>\n",
              "      <th>1980-04-01</th>\n",
              "      <td>6.151</td>\n",
              "      <td>0.203</td>\n",
              "      <td>Århus</td>\n",
              "      <td>Denmark</td>\n",
              "      <td>57.05N</td>\n",
              "      <td>10.33E</td>\n",
              "      <td>1980</td>\n",
              "    </tr>\n",
              "    <tr>\n",
              "      <th>1980-05-01</th>\n",
              "      <td>11.434</td>\n",
              "      <td>0.226</td>\n",
              "      <td>Århus</td>\n",
              "      <td>Denmark</td>\n",
              "      <td>57.05N</td>\n",
              "      <td>10.33E</td>\n",
              "      <td>1980</td>\n",
              "    </tr>\n",
              "  </tbody>\n",
              "</table>\n",
              "</div>"
            ],
            "text/plain": [
              "            Avg_temp  Avg_temp_uncertainty   City  ... Latitude Longitude  Year\n",
              "Date                                               ...                         \n",
              "1980-01-01    -1.850                 0.363  Århus  ...   57.05N    10.33E  1980\n",
              "1980-02-01    -2.171                 0.377  Århus  ...   57.05N    10.33E  1980\n",
              "1980-03-01     0.625                 0.178  Århus  ...   57.05N    10.33E  1980\n",
              "1980-04-01     6.151                 0.203  Århus  ...   57.05N    10.33E  1980\n",
              "1980-05-01    11.434                 0.226  Århus  ...   57.05N    10.33E  1980\n",
              "\n",
              "[5 rows x 7 columns]"
            ]
          },
          "metadata": {
            "tags": []
          },
          "execution_count": 15
        }
      ]
    },
    {
      "cell_type": "code",
      "metadata": {
        "colab": {
          "base_uri": "https://localhost:8080/"
        },
        "id": "fkDViXuSP59V",
        "outputId": "adf15404-2ea4-49ef-9b4a-0f3e1fb51d3d"
      },
      "source": [
        "latest_df.shape"
      ],
      "execution_count": null,
      "outputs": [
        {
          "output_type": "execute_result",
          "data": {
            "text/plain": [
              "(147841, 7)"
            ]
          },
          "metadata": {
            "tags": []
          },
          "execution_count": 16
        }
      ]
    },
    {
      "cell_type": "markdown",
      "metadata": {
        "id": "UszKMqpUQAPr"
      },
      "source": [
        "We now have 33 137 rows in our dataframe. "
      ]
    },
    {
      "cell_type": "code",
      "metadata": {
        "colab": {
          "base_uri": "https://localhost:8080/",
          "height": 295
        },
        "id": "X5MZyzDALbCY",
        "outputId": "4edfb8c2-79e0-4d06-a9d1-fbbf22aa4015"
      },
      "source": [
        "latest_df.describe()"
      ],
      "execution_count": null,
      "outputs": [
        {
          "output_type": "execute_result",
          "data": {
            "text/html": [
              "<div>\n",
              "<style scoped>\n",
              "    .dataframe tbody tr th:only-of-type {\n",
              "        vertical-align: middle;\n",
              "    }\n",
              "\n",
              "    .dataframe tbody tr th {\n",
              "        vertical-align: top;\n",
              "    }\n",
              "\n",
              "    .dataframe thead th {\n",
              "        text-align: right;\n",
              "    }\n",
              "</style>\n",
              "<table border=\"1\" class=\"dataframe\">\n",
              "  <thead>\n",
              "    <tr style=\"text-align: right;\">\n",
              "      <th></th>\n",
              "      <th>Avg_temp</th>\n",
              "      <th>Avg_temp_uncertainty</th>\n",
              "      <th>Year</th>\n",
              "    </tr>\n",
              "  </thead>\n",
              "  <tbody>\n",
              "    <tr>\n",
              "      <th>count</th>\n",
              "      <td>147841.000000</td>\n",
              "      <td>147841.000000</td>\n",
              "      <td>147841.000000</td>\n",
              "    </tr>\n",
              "    <tr>\n",
              "      <th>mean</th>\n",
              "      <td>19.187522</td>\n",
              "      <td>0.365867</td>\n",
              "      <td>1996.334772</td>\n",
              "    </tr>\n",
              "    <tr>\n",
              "      <th>std</th>\n",
              "      <td>10.009764</td>\n",
              "      <td>0.198424</td>\n",
              "      <td>9.719831</td>\n",
              "    </tr>\n",
              "    <tr>\n",
              "      <th>min</th>\n",
              "      <td>-28.973000</td>\n",
              "      <td>0.036000</td>\n",
              "      <td>1980.000000</td>\n",
              "    </tr>\n",
              "    <tr>\n",
              "      <th>25%</th>\n",
              "      <td>13.884000</td>\n",
              "      <td>0.241000</td>\n",
              "      <td>1988.000000</td>\n",
              "    </tr>\n",
              "    <tr>\n",
              "      <th>50%</th>\n",
              "      <td>22.019000</td>\n",
              "      <td>0.320000</td>\n",
              "      <td>1996.000000</td>\n",
              "    </tr>\n",
              "    <tr>\n",
              "      <th>75%</th>\n",
              "      <td>26.638000</td>\n",
              "      <td>0.435000</td>\n",
              "      <td>2005.000000</td>\n",
              "    </tr>\n",
              "    <tr>\n",
              "      <th>max</th>\n",
              "      <td>39.156000</td>\n",
              "      <td>5.148000</td>\n",
              "      <td>2013.000000</td>\n",
              "    </tr>\n",
              "  </tbody>\n",
              "</table>\n",
              "</div>"
            ],
            "text/plain": [
              "            Avg_temp  Avg_temp_uncertainty           Year\n",
              "count  147841.000000         147841.000000  147841.000000\n",
              "mean       19.187522              0.365867    1996.334772\n",
              "std        10.009764              0.198424       9.719831\n",
              "min       -28.973000              0.036000    1980.000000\n",
              "25%        13.884000              0.241000    1988.000000\n",
              "50%        22.019000              0.320000    1996.000000\n",
              "75%        26.638000              0.435000    2005.000000\n",
              "max        39.156000              5.148000    2013.000000"
            ]
          },
          "metadata": {
            "tags": []
          },
          "execution_count": 17
        }
      ]
    },
    {
      "cell_type": "markdown",
      "metadata": {
        "id": "GqGgvdw38bp0"
      },
      "source": [
        "#Data visualization"
      ]
    },
    {
      "cell_type": "markdown",
      "metadata": {
        "id": "zWPo7DCjwne3"
      },
      "source": [
        "Let's see the average temperature based on countries"
      ]
    },
    {
      "cell_type": "code",
      "metadata": {
        "colab": {
          "base_uri": "https://localhost:8080/",
          "height": 447
        },
        "id": "2qk16o7NLk0O",
        "outputId": "8e7d12f9-55a0-47c2-f205-38a131b8988b"
      },
      "source": [
        "#see the average temperature based on countr\n",
        "latest_df[['Country','Avg_temp']].groupby(['Country']).mean().sort_values('Avg_temp')"
      ],
      "execution_count": null,
      "outputs": [
        {
          "output_type": "execute_result",
          "data": {
            "text/html": [
              "<div>\n",
              "<style scoped>\n",
              "    .dataframe tbody tr th:only-of-type {\n",
              "        vertical-align: middle;\n",
              "    }\n",
              "\n",
              "    .dataframe tbody tr th {\n",
              "        vertical-align: top;\n",
              "    }\n",
              "\n",
              "    .dataframe thead th {\n",
              "        text-align: right;\n",
              "    }\n",
              "</style>\n",
              "<table border=\"1\" class=\"dataframe\">\n",
              "  <thead>\n",
              "    <tr style=\"text-align: right;\">\n",
              "      <th></th>\n",
              "      <th>Avg_temp</th>\n",
              "    </tr>\n",
              "    <tr>\n",
              "      <th>Country</th>\n",
              "      <th></th>\n",
              "    </tr>\n",
              "  </thead>\n",
              "  <tbody>\n",
              "    <tr>\n",
              "      <th>Norway</th>\n",
              "      <td>2.581287</td>\n",
              "    </tr>\n",
              "    <tr>\n",
              "      <th>Russia</th>\n",
              "      <td>4.603696</td>\n",
              "    </tr>\n",
              "    <tr>\n",
              "      <th>Kazakhstan</th>\n",
              "      <td>6.503722</td>\n",
              "    </tr>\n",
              "    <tr>\n",
              "      <th>Canada</th>\n",
              "      <td>7.376665</td>\n",
              "    </tr>\n",
              "    <tr>\n",
              "      <th>Switzerland</th>\n",
              "      <td>7.703418</td>\n",
              "    </tr>\n",
              "    <tr>\n",
              "      <th>...</th>\n",
              "      <td>...</td>\n",
              "    </tr>\n",
              "    <tr>\n",
              "      <th>Vietnam</th>\n",
              "      <td>27.442282</td>\n",
              "    </tr>\n",
              "    <tr>\n",
              "      <th>Mali</th>\n",
              "      <td>27.618101</td>\n",
              "    </tr>\n",
              "    <tr>\n",
              "      <th>Benin</th>\n",
              "      <td>27.665557</td>\n",
              "    </tr>\n",
              "    <tr>\n",
              "      <th>Thailand</th>\n",
              "      <td>27.765322</td>\n",
              "    </tr>\n",
              "    <tr>\n",
              "      <th>Somalia</th>\n",
              "      <td>27.964663</td>\n",
              "    </tr>\n",
              "  </tbody>\n",
              "</table>\n",
              "<p>80 rows × 1 columns</p>\n",
              "</div>"
            ],
            "text/plain": [
              "              Avg_temp\n",
              "Country               \n",
              "Norway        2.581287\n",
              "Russia        4.603696\n",
              "Kazakhstan    6.503722\n",
              "Canada        7.376665\n",
              "Switzerland   7.703418\n",
              "...                ...\n",
              "Vietnam      27.442282\n",
              "Mali         27.618101\n",
              "Benin        27.665557\n",
              "Thailand     27.765322\n",
              "Somalia      27.964663\n",
              "\n",
              "[80 rows x 1 columns]"
            ]
          },
          "metadata": {
            "tags": []
          },
          "execution_count": 19
        }
      ]
    },
    {
      "cell_type": "markdown",
      "metadata": {
        "id": "Kcvy4PiQxamI"
      },
      "source": [
        "So, we have the lowest average temperature in Norway and the highest average temperature is in Somalia"
      ]
    },
    {
      "cell_type": "markdown",
      "metadata": {
        "id": "faxKe8D-xuOg"
      },
      "source": [
        "Now, we want to see the avera&ge temperature in every year and sort them to see which year has the minimum average temperature and which year has the highest."
      ]
    },
    {
      "cell_type": "code",
      "metadata": {
        "colab": {
          "base_uri": "https://localhost:8080/",
          "height": 1000
        },
        "id": "8enksorKNzq5",
        "outputId": "f4e6d5ee-27de-4add-fb30-587ee8b3e9fe"
      },
      "source": [
        "latest_df[['Year','Avg_temp']].groupby(['Year']).mean().sort_values('Avg_temp')"
      ],
      "execution_count": null,
      "outputs": [
        {
          "output_type": "execute_result",
          "data": {
            "text/html": [
              "<div>\n",
              "<style scoped>\n",
              "    .dataframe tbody tr th:only-of-type {\n",
              "        vertical-align: middle;\n",
              "    }\n",
              "\n",
              "    .dataframe tbody tr th {\n",
              "        vertical-align: top;\n",
              "    }\n",
              "\n",
              "    .dataframe thead th {\n",
              "        text-align: right;\n",
              "    }\n",
              "</style>\n",
              "<table border=\"1\" class=\"dataframe\">\n",
              "  <thead>\n",
              "    <tr style=\"text-align: right;\">\n",
              "      <th></th>\n",
              "      <th>Avg_temp</th>\n",
              "    </tr>\n",
              "    <tr>\n",
              "      <th>Year</th>\n",
              "      <th></th>\n",
              "    </tr>\n",
              "  </thead>\n",
              "  <tbody>\n",
              "    <tr>\n",
              "      <th>1984</th>\n",
              "      <td>18.663822</td>\n",
              "    </tr>\n",
              "    <tr>\n",
              "      <th>1985</th>\n",
              "      <td>18.735181</td>\n",
              "    </tr>\n",
              "    <tr>\n",
              "      <th>1986</th>\n",
              "      <td>18.811602</td>\n",
              "    </tr>\n",
              "    <tr>\n",
              "      <th>1982</th>\n",
              "      <td>18.823059</td>\n",
              "    </tr>\n",
              "    <tr>\n",
              "      <th>1980</th>\n",
              "      <td>18.823582</td>\n",
              "    </tr>\n",
              "    <tr>\n",
              "      <th>1993</th>\n",
              "      <td>18.840439</td>\n",
              "    </tr>\n",
              "    <tr>\n",
              "      <th>1992</th>\n",
              "      <td>18.843341</td>\n",
              "    </tr>\n",
              "    <tr>\n",
              "      <th>1981</th>\n",
              "      <td>18.865545</td>\n",
              "    </tr>\n",
              "    <tr>\n",
              "      <th>1996</th>\n",
              "      <td>18.899415</td>\n",
              "    </tr>\n",
              "    <tr>\n",
              "      <th>1983</th>\n",
              "      <td>18.924548</td>\n",
              "    </tr>\n",
              "    <tr>\n",
              "      <th>1989</th>\n",
              "      <td>18.994147</td>\n",
              "    </tr>\n",
              "    <tr>\n",
              "      <th>1991</th>\n",
              "      <td>18.997692</td>\n",
              "    </tr>\n",
              "    <tr>\n",
              "      <th>1987</th>\n",
              "      <td>19.053778</td>\n",
              "    </tr>\n",
              "    <tr>\n",
              "      <th>1988</th>\n",
              "      <td>19.072938</td>\n",
              "    </tr>\n",
              "    <tr>\n",
              "      <th>1997</th>\n",
              "      <td>19.095531</td>\n",
              "    </tr>\n",
              "    <tr>\n",
              "      <th>1994</th>\n",
              "      <td>19.201772</td>\n",
              "    </tr>\n",
              "    <tr>\n",
              "      <th>2011</th>\n",
              "      <td>19.260899</td>\n",
              "    </tr>\n",
              "    <tr>\n",
              "      <th>2000</th>\n",
              "      <td>19.262296</td>\n",
              "    </tr>\n",
              "    <tr>\n",
              "      <th>1990</th>\n",
              "      <td>19.263919</td>\n",
              "    </tr>\n",
              "    <tr>\n",
              "      <th>1995</th>\n",
              "      <td>19.269925</td>\n",
              "    </tr>\n",
              "    <tr>\n",
              "      <th>2008</th>\n",
              "      <td>19.328749</td>\n",
              "    </tr>\n",
              "    <tr>\n",
              "      <th>2005</th>\n",
              "      <td>19.354150</td>\n",
              "    </tr>\n",
              "    <tr>\n",
              "      <th>2001</th>\n",
              "      <td>19.376045</td>\n",
              "    </tr>\n",
              "    <tr>\n",
              "      <th>2003</th>\n",
              "      <td>19.376695</td>\n",
              "    </tr>\n",
              "    <tr>\n",
              "      <th>1999</th>\n",
              "      <td>19.382526</td>\n",
              "    </tr>\n",
              "    <tr>\n",
              "      <th>2004</th>\n",
              "      <td>19.399955</td>\n",
              "    </tr>\n",
              "    <tr>\n",
              "      <th>2012</th>\n",
              "      <td>19.420952</td>\n",
              "    </tr>\n",
              "    <tr>\n",
              "      <th>2006</th>\n",
              "      <td>19.504259</td>\n",
              "    </tr>\n",
              "    <tr>\n",
              "      <th>2009</th>\n",
              "      <td>19.533141</td>\n",
              "    </tr>\n",
              "    <tr>\n",
              "      <th>2007</th>\n",
              "      <td>19.557651</td>\n",
              "    </tr>\n",
              "    <tr>\n",
              "      <th>2002</th>\n",
              "      <td>19.568874</td>\n",
              "    </tr>\n",
              "    <tr>\n",
              "      <th>1998</th>\n",
              "      <td>19.575172</td>\n",
              "    </tr>\n",
              "    <tr>\n",
              "      <th>2010</th>\n",
              "      <td>19.582713</td>\n",
              "    </tr>\n",
              "    <tr>\n",
              "      <th>2013</th>\n",
              "      <td>19.971437</td>\n",
              "    </tr>\n",
              "  </tbody>\n",
              "</table>\n",
              "</div>"
            ],
            "text/plain": [
              "       Avg_temp\n",
              "Year           \n",
              "1984  18.663822\n",
              "1985  18.735181\n",
              "1986  18.811602\n",
              "1982  18.823059\n",
              "1980  18.823582\n",
              "1993  18.840439\n",
              "1992  18.843341\n",
              "1981  18.865545\n",
              "1996  18.899415\n",
              "1983  18.924548\n",
              "1989  18.994147\n",
              "1991  18.997692\n",
              "1987  19.053778\n",
              "1988  19.072938\n",
              "1997  19.095531\n",
              "1994  19.201772\n",
              "2011  19.260899\n",
              "2000  19.262296\n",
              "1990  19.263919\n",
              "1995  19.269925\n",
              "2008  19.328749\n",
              "2005  19.354150\n",
              "2001  19.376045\n",
              "2003  19.376695\n",
              "1999  19.382526\n",
              "2004  19.399955\n",
              "2012  19.420952\n",
              "2006  19.504259\n",
              "2009  19.533141\n",
              "2007  19.557651\n",
              "2002  19.568874\n",
              "1998  19.575172\n",
              "2010  19.582713\n",
              "2013  19.971437"
            ]
          },
          "metadata": {
            "tags": []
          },
          "execution_count": 20
        }
      ]
    },
    {
      "cell_type": "markdown",
      "metadata": {
        "id": "BBNKKfYuyZzq"
      },
      "source": [
        "We can see clearly that the average temperature is increasing every year and it went from 18.66 in 1984 to 19.55 in 2013. \n",
        "However, the best way to understand the rising of the average climate temperature during the years is by visualizing it. \n",
        "So, we are going to plot a graph that  represents the evolution of average temperature during the period from 1980 to 2013.  "
      ]
    },
    {
      "cell_type": "code",
      "metadata": {
        "colab": {
          "base_uri": "https://localhost:8080/",
          "height": 279
        },
        "id": "azAr9G14MSEk",
        "outputId": "ef309296-6b3c-4998-85be-dbf111fc5d32"
      },
      "source": [
        "plt.figure(figsize=(9,4))\n",
        "sns.lineplot(x=\"Year\",y=\"Avg_temp\",data=latest_df)\n",
        "plt.show()"
      ],
      "execution_count": null,
      "outputs": [
        {
          "output_type": "display_data",
          "data": {
            "image/png": "[encoded data removed]",
            "text/plain": [
              "<Figure size 648x288 with 1 Axes>"
            ]
          },
          "metadata": {
            "tags": [],
            "needs_background": "light"
          }
        }
      ]
    },
    {
      "cell_type": "markdown",
      "metadata": {
        "id": "JwrHTSjPzFsO"
      },
      "source": [
        "It is clear now in the graph that the average temperature seems to be rising over the years."
      ]
    },
    {
      "cell_type": "markdown",
      "metadata": {
        "id": "o3SDoSQfz4NS"
      },
      "source": [
        "Now, we are going to resample the time series to create a more sistinct line. "
      ]
    },
    {
      "cell_type": "code",
      "metadata": {
        "id": "WhVPn4jJNish"
      },
      "source": [
        "resample_df=latest_df[['Avg_temp']].resample('A').mean()"
      ],
      "execution_count": null,
      "outputs": []
    },
    {
      "cell_type": "code",
      "metadata": {
        "colab": {
          "base_uri": "https://localhost:8080/",
          "height": 234
        },
        "id": "68s8piOs1qZw",
        "outputId": "6f9395ec-176a-428d-d1dc-1e45836a3b63"
      },
      "source": [
        "resample_df.head()"
      ],
      "execution_count": null,
      "outputs": [
        {
          "output_type": "execute_result",
          "data": {
            "text/html": [
              "<div>\n",
              "<style scoped>\n",
              "    .dataframe tbody tr th:only-of-type {\n",
              "        vertical-align: middle;\n",
              "    }\n",
              "\n",
              "    .dataframe tbody tr th {\n",
              "        vertical-align: top;\n",
              "    }\n",
              "\n",
              "    .dataframe thead th {\n",
              "        text-align: right;\n",
              "    }\n",
              "</style>\n",
              "<table border=\"1\" class=\"dataframe\">\n",
              "  <thead>\n",
              "    <tr style=\"text-align: right;\">\n",
              "      <th></th>\n",
              "      <th>Avg_temp</th>\n",
              "    </tr>\n",
              "    <tr>\n",
              "      <th>Date</th>\n",
              "      <th></th>\n",
              "    </tr>\n",
              "  </thead>\n",
              "  <tbody>\n",
              "    <tr>\n",
              "      <th>1980-12-31</th>\n",
              "      <td>18.823582</td>\n",
              "    </tr>\n",
              "    <tr>\n",
              "      <th>1981-12-31</th>\n",
              "      <td>18.865545</td>\n",
              "    </tr>\n",
              "    <tr>\n",
              "      <th>1982-12-31</th>\n",
              "      <td>18.823059</td>\n",
              "    </tr>\n",
              "    <tr>\n",
              "      <th>1983-12-31</th>\n",
              "      <td>18.924548</td>\n",
              "    </tr>\n",
              "    <tr>\n",
              "      <th>1984-12-31</th>\n",
              "      <td>18.663822</td>\n",
              "    </tr>\n",
              "  </tbody>\n",
              "</table>\n",
              "</div>"
            ],
            "text/plain": [
              "             Avg_temp\n",
              "Date                 \n",
              "1980-12-31  18.823582\n",
              "1981-12-31  18.865545\n",
              "1982-12-31  18.823059\n",
              "1983-12-31  18.924548\n",
              "1984-12-31  18.663822"
            ]
          },
          "metadata": {
            "tags": []
          },
          "execution_count": 27
        }
      ]
    },
    {
      "cell_type": "markdown",
      "metadata": {
        "id": "SpAhfhxu1zYH"
      },
      "source": [
        "We can also take a sample in which we add the minimum and maximum temperature in the year."
      ]
    },
    {
      "cell_type": "code",
      "metadata": {
        "id": "i3SaYg4-1QQM"
      },
      "source": [
        "resample_df2=latest_df[['Avg_temp']].resample('A').agg(['min','max', 'mean'])"
      ],
      "execution_count": null,
      "outputs": []
    },
    {
      "cell_type": "code",
      "metadata": {
        "colab": {
          "base_uri": "https://localhost:8080/",
          "height": 265
        },
        "id": "80l0ozU31aBN",
        "outputId": "08a8437b-bd36-4df1-90e5-ae49fb4fb9a0"
      },
      "source": [
        "resample_df2.head()"
      ],
      "execution_count": null,
      "outputs": [
        {
          "output_type": "execute_result",
          "data": {
            "text/html": [
              "<div>\n",
              "<style scoped>\n",
              "    .dataframe tbody tr th:only-of-type {\n",
              "        vertical-align: middle;\n",
              "    }\n",
              "\n",
              "    .dataframe tbody tr th {\n",
              "        vertical-align: top;\n",
              "    }\n",
              "\n",
              "    .dataframe thead tr th {\n",
              "        text-align: left;\n",
              "    }\n",
              "\n",
              "    .dataframe thead tr:last-of-type th {\n",
              "        text-align: right;\n",
              "    }\n",
              "</style>\n",
              "<table border=\"1\" class=\"dataframe\">\n",
              "  <thead>\n",
              "    <tr>\n",
              "      <th></th>\n",
              "      <th colspan=\"3\" halign=\"left\">Avg_temp</th>\n",
              "    </tr>\n",
              "    <tr>\n",
              "      <th></th>\n",
              "      <th>min</th>\n",
              "      <th>max</th>\n",
              "      <th>mean</th>\n",
              "    </tr>\n",
              "    <tr>\n",
              "      <th>Date</th>\n",
              "      <th></th>\n",
              "      <th></th>\n",
              "      <th></th>\n",
              "    </tr>\n",
              "  </thead>\n",
              "  <tbody>\n",
              "    <tr>\n",
              "      <th>1980-12-31</th>\n",
              "      <td>-25.181</td>\n",
              "      <td>37.823</td>\n",
              "      <td>18.823582</td>\n",
              "    </tr>\n",
              "    <tr>\n",
              "      <th>1981-12-31</th>\n",
              "      <td>-21.752</td>\n",
              "      <td>36.851</td>\n",
              "      <td>18.865545</td>\n",
              "    </tr>\n",
              "    <tr>\n",
              "      <th>1982-12-31</th>\n",
              "      <td>-21.387</td>\n",
              "      <td>36.023</td>\n",
              "      <td>18.823059</td>\n",
              "    </tr>\n",
              "    <tr>\n",
              "      <th>1983-12-31</th>\n",
              "      <td>-19.927</td>\n",
              "      <td>37.495</td>\n",
              "      <td>18.924548</td>\n",
              "    </tr>\n",
              "    <tr>\n",
              "      <th>1984-12-31</th>\n",
              "      <td>-26.002</td>\n",
              "      <td>37.131</td>\n",
              "      <td>18.663822</td>\n",
              "    </tr>\n",
              "  </tbody>\n",
              "</table>\n",
              "</div>"
            ],
            "text/plain": [
              "           Avg_temp                   \n",
              "                min     max       mean\n",
              "Date                                  \n",
              "1980-12-31  -25.181  37.823  18.823582\n",
              "1981-12-31  -21.752  36.851  18.865545\n",
              "1982-12-31  -21.387  36.023  18.823059\n",
              "1983-12-31  -19.927  37.495  18.924548\n",
              "1984-12-31  -26.002  37.131  18.663822"
            ]
          },
          "metadata": {
            "tags": []
          },
          "execution_count": 29
        }
      ]
    },
    {
      "cell_type": "code",
      "metadata": {
        "colab": {
          "base_uri": "https://localhost:8080/",
          "height": 234
        },
        "id": "awQoD8p9OjrU",
        "outputId": "b6965821-4c2d-4ae0-8445-009a923a2a28"
      },
      "source": [
        "resample_df.head()"
      ],
      "execution_count": null,
      "outputs": [
        {
          "output_type": "execute_result",
          "data": {
            "text/html": [
              "<div>\n",
              "<style scoped>\n",
              "    .dataframe tbody tr th:only-of-type {\n",
              "        vertical-align: middle;\n",
              "    }\n",
              "\n",
              "    .dataframe tbody tr th {\n",
              "        vertical-align: top;\n",
              "    }\n",
              "\n",
              "    .dataframe thead th {\n",
              "        text-align: right;\n",
              "    }\n",
              "</style>\n",
              "<table border=\"1\" class=\"dataframe\">\n",
              "  <thead>\n",
              "    <tr style=\"text-align: right;\">\n",
              "      <th></th>\n",
              "      <th>Avg_temp</th>\n",
              "    </tr>\n",
              "    <tr>\n",
              "      <th>Date</th>\n",
              "      <th></th>\n",
              "    </tr>\n",
              "  </thead>\n",
              "  <tbody>\n",
              "    <tr>\n",
              "      <th>1980-12-31</th>\n",
              "      <td>18.823582</td>\n",
              "    </tr>\n",
              "    <tr>\n",
              "      <th>1981-12-31</th>\n",
              "      <td>18.865545</td>\n",
              "    </tr>\n",
              "    <tr>\n",
              "      <th>1982-12-31</th>\n",
              "      <td>18.823059</td>\n",
              "    </tr>\n",
              "    <tr>\n",
              "      <th>1983-12-31</th>\n",
              "      <td>18.924548</td>\n",
              "    </tr>\n",
              "    <tr>\n",
              "      <th>1984-12-31</th>\n",
              "      <td>18.663822</td>\n",
              "    </tr>\n",
              "  </tbody>\n",
              "</table>\n",
              "</div>"
            ],
            "text/plain": [
              "             Avg_temp\n",
              "Date                 \n",
              "1980-12-31  18.823582\n",
              "1981-12-31  18.865545\n",
              "1982-12-31  18.823059\n",
              "1983-12-31  18.924548\n",
              "1984-12-31  18.663822"
            ]
          },
          "metadata": {
            "tags": []
          },
          "execution_count": 24
        }
      ]
    },
    {
      "cell_type": "markdown",
      "metadata": {
        "id": "uzWH7R6J0Ftn"
      },
      "source": [
        "This is our resampled dataset."
      ]
    },
    {
      "cell_type": "code",
      "metadata": {
        "colab": {
          "base_uri": "https://localhost:8080/",
          "height": 370
        },
        "id": "GD0k3lOFOmYu",
        "outputId": "9297ad8d-6070-469a-a755-dcd850e9c3a9"
      },
      "source": [
        "resample_df.plot(title=\"Temperature Changes from 1980-2013\", figsize=(8,5))\n",
        "plt.ylabel('Temperature',fontsize=12)\n",
        "plt.xlabel('Year',fontsize=12)\n",
        "plt.legend()"
      ],
      "execution_count": null,
      "outputs": [
        {
          "output_type": "execute_result",
          "data": {
            "text/plain": [
              "<matplotlib.legend.Legend at 0x7f0328de4550>"
            ]
          },
          "metadata": {
            "tags": []
          },
          "execution_count": 30
        },
        {
          "output_type": "display_data",
          "data": {
            "image/png": "[encoded data removed]",
            "text/plain": [
              "<Figure size 576x360 with 1 Axes>"
            ]
          },
          "metadata": {
            "tags": [],
            "needs_background": "light"
          }
        }
      ]
    },
    {
      "cell_type": "markdown",
      "metadata": {
        "id": "aIWj0gld8j4V"
      },
      "source": [
        "#Stationnarity test \n"
      ]
    },
    {
      "cell_type": "markdown",
      "metadata": {
        "id": "gjanPAOo8CfR"
      },
      "source": [
        "Let's apply Dickey Fuller test to determine how stationnary our series is . \n",
        "In this case, our null hypothesis will be that the time series is not stationaary and is affected by trends. "
      ]
    },
    {
      "cell_type": "code",
      "metadata": {
        "colab": {
          "base_uri": "https://localhost:8080/"
        },
        "id": "SHOVanWOPXq7",
        "outputId": "e8bf3398-27b2-404a-edbc-1d009e7bc85b"
      },
      "source": [
        "from statsmodels.tsa.stattools  import adfuller \n",
        "\n",
        "print('Dickey Fuller test results: ')\n",
        "test_df= adfuller(resample_df.iloc[:,0].values, autolag='AIC')\n",
        "df_output=pd.Series(test_df[0:4],index=['Test statistic','p-value','Lags Used','Number of Observations Used'])\n",
        "for key, value in test_df[4].items():\n",
        "  df_output['Critical Value (%s) '%key] = value\n",
        "print(df_output)"
      ],
      "execution_count": null,
      "outputs": [
        {
          "output_type": "stream",
          "text": [
            "Dickey Fuller test results: \n",
            "Test statistic                 -0.590374\n",
            "p-value                         0.873142\n",
            "Lags Used                       2.000000\n",
            "Number of Observations Used    31.000000\n",
            "Critical Value (1%)            -3.661429\n",
            "Critical Value (5%)            -2.960525\n",
            "Critical Value (10%)           -2.619319\n",
            "dtype: float64\n"
          ],
          "name": "stdout"
        }
      ]
    },
    {
      "cell_type": "markdown",
      "metadata": {
        "id": "wImJQmaTCuQC"
      },
      "source": [
        "So, here we can see that the test statistic is greater than the critical value.\n",
        "We have failed to reject the null hypothesis which is \"The time series data is not stationnary\"\n",
        "At this point our time series data is not stationnary. "
      ]
    },
    {
      "cell_type": "markdown",
      "metadata": {
        "id": "0sI8k2--Ds1E"
      },
      "source": [
        "Now, we are going to decompose the data, extract components and then plot the original time series, the trend and the seasonal component.\n",
        "\n",
        "Along with that, we will also plot the residual component graph."
      ]
    },
    {
      "cell_type": "code",
      "metadata": {
        "id": "aipWFgCjWJhz"
      },
      "source": [
        "decomp= seasonal_decompose(resample_df,freq=3)\n",
        "\n",
        "trend=decomp.trend\n",
        "seasonal=decomp.seasonal\n",
        "residual=decomp.resid"
      ],
      "execution_count": null,
      "outputs": []
    },
    {
      "cell_type": "code",
      "metadata": {
        "colab": {
          "base_uri": "https://localhost:8080/",
          "height": 441
        },
        "id": "myxRHhnPW1zm",
        "outputId": "d9b8da86-a998-4f70-f589-fc388d15e80e"
      },
      "source": [
        "plt.subplot(411)\n",
        "plt.plot(resample_df)\n",
        "plt.xlabel('Original')\n",
        "plt.figure(figsize=(6,5))\n",
        "\n",
        "plt.subplot(412)\n",
        "plt.plot(trend)\n",
        "plt.xlabel('Trend')\n",
        "plt.figure(figsize=(6,5))\n",
        "\n",
        "plt.subplot(413)\n",
        "plt.plot(seasonal)\n",
        "plt.xlabel('Seasonal')\n",
        "plt.figure(figsize=(6,5))\n",
        "\n",
        "plt.subplot(414)\n",
        "plt.plot(residual)\n",
        "plt.xlabel('Residual')\n",
        "plt.figure(figsize=(6,5))\n",
        "\n",
        "plt.tight_layout()"
      ],
      "execution_count": null,
      "outputs": [
        {
          "output_type": "display_data",
          "data": {
            "image/png": "[encoded data removed]",
            "text/plain": [
              "<Figure size 432x288 with 1 Axes>"
            ]
          },
          "metadata": {
            "tags": [],
            "needs_background": "light"
          }
        },
        {
          "output_type": "display_data",
          "data": {
            "image/png": "[encoded data removed]",
            "text/plain": [
              "<Figure size 432x360 with 1 Axes>"
            ]
          },
          "metadata": {
            "tags": [],
            "needs_background": "light"
          }
        },
        {
          "output_type": "display_data",
          "data": {
            "image/png": "[encoded data removed]",
            "text/plain": [
              "<Figure size 432x360 with 1 Axes>"
            ]
          },
          "metadata": {
            "tags": [],
            "needs_background": "light"
          }
        },
        {
          "output_type": "display_data",
          "data": {
            "image/png": "[encoded data removed]",
            "text/plain": [
              "<Figure size 432x360 with 1 Axes>"
            ]
          },
          "metadata": {
            "tags": [],
            "needs_background": "light"
          }
        },
        {
          "output_type": "display_data",
          "data": {
            "text/plain": [
              "<Figure size 432x360 with 0 Axes>"
            ]
          },
          "metadata": {
            "tags": []
          }
        }
      ]
    },
    {
      "cell_type": "markdown",
      "metadata": {
        "id": "dbhYHCjqLsjJ"
      },
      "source": [
        "We have an increasing trend line in the decomposition which proves that our data currently isn't stationnary.\n",
        "We want the trend line to be constant over time.\n",
        "So, we need to transform our data. "
      ]
    },
    {
      "cell_type": "markdown",
      "metadata": {
        "id": "3wiYTdcSN51B"
      },
      "source": [
        "#Data transformation"
      ]
    },
    {
      "cell_type": "code",
      "metadata": {
        "colab": {
          "base_uri": "https://localhost:8080/",
          "height": 369
        },
        "id": "nC7ARqmHXorY",
        "outputId": "676001a8-b803-46bb-ee8f-8b63b8e24813"
      },
      "source": [
        "rol_mean= resample_df.rolling(window=3, center=True).mean()\n",
        "\n",
        "ewm= resample_df.ewm(span=3).mean()\n",
        "\n",
        "rol_std= resample_df.rolling(window=3,center=True).std()\n",
        "\n",
        "fig, (ax1,ax2)= plt.subplots(1,2,figsize=(12,5))\n",
        "\n",
        "ax1.plot(resample_df, label='Original')\n",
        "ax1.plot(rol_mean,label='Rolling Mean')\n",
        "ax1.plot(ewm,label='Exponentially weighted Mean')\n",
        "\n",
        "ax1.set_title(\"Temperature Changes From 1980-2013\", fontsize=14)\n",
        "ax1.set_xlabel('Year',fontsize=12)\n",
        "ax1.set_ylabel('Temperature',fontsize=12)\n",
        "ax1.legend()\n",
        "\n",
        "\n",
        "ax2.plot(rol_std,label='Rolling STD')\n",
        "ax2.set_title(\"Temperature Changes From 1980-2013\", fontsize=14)\n",
        "ax2.set_xlabel('Year',fontsize=12)\n",
        "ax2.set_ylabel('Temperature',fontsize=12)\n",
        "ax2.legend()\n",
        "\n",
        "\n",
        "plt.tight_layout()\n",
        "plt.show()"
      ],
      "execution_count": 35,
      "outputs": [
        {
          "output_type": "display_data",
          "data": {
            "image/png": "[encoded data removed]",
            "text/plain": [
              "<Figure size 864x360 with 2 Axes>"
            ]
          },
          "metadata": {
            "tags": [],
            "needs_background": "light"
          }
        }
      ]
    },
    {
      "cell_type": "markdown",
      "metadata": {
        "id": "XlM-EXmPO92Q"
      },
      "source": [
        "So, we here we can see the graph of the original, rolling mean and he exponentially weighted mean. And also we have the graph of the rolling standard deviation. \n",
        "Now, let's apply again the dickey fuller test."
      ]
    },
    {
      "cell_type": "code",
      "metadata": {
        "colab": {
          "base_uri": "https://localhost:8080/"
        },
        "id": "00NXGEgEaqAd",
        "outputId": "704c9e3c-d5cd-49c3-b703-221e848fbdb5"
      },
      "source": [
        "rol_mean.dropna(inplace=True)\n",
        "ewm.dropna(inplace=True)\n",
        "\n",
        "print('Dickey-Fuller Test for the Rolling Mean:')\n",
        "df_test=adfuller(rol_mean.iloc[:,0].values,autolag='AIC')\n",
        "df_output=pd.Series(df_test[0:4],index=['Test Statistic','p-value','Lags Used', 'Number Of Observations Used'])\n",
        "\n",
        "for key,value in df_test[4].items(): \n",
        "  df_output['Critical Value(%s)' %key]=value\n",
        "print(df_output)\n",
        "print(' ')\n",
        "\n",
        "\n",
        "print('Dickey-Fuller Test for the Exponentially Weighted Mean:')\n",
        "df_test=adfuller(ewm.iloc[:,0].values,autolag='AIC')\n",
        "df_output=pd.Series(df_test[0:4],index=['Test Statistic','p-value','Lags Used', 'Number Of Observations Used'])\n",
        "\n",
        "for key,value in df_test[4].items(): \n",
        "  df_output['Critical Vlue(%s)' %key]=value\n",
        "print(df_output)\n",
        "print(' ')"
      ],
      "execution_count": 36,
      "outputs": [
        {
          "output_type": "stream",
          "text": [
            "Dickey-Fuller Test for the Rolling Mean:\n",
            "Test Statistic                 -0.840435\n",
            "p-value                         0.806955\n",
            "Lags Used                       5.000000\n",
            "Number Of Observations Used    26.000000\n",
            "Critical Value(1%)             -3.711212\n",
            "Critical Value(5%)             -2.981247\n",
            "Critical Value(10%)            -2.630095\n",
            "dtype: float64\n",
            " \n",
            "Dickey-Fuller Test for the Exponentially Weighted Mean:\n",
            "Test Statistic                 -0.224805\n",
            "p-value                         0.935500\n",
            "Lags Used                       2.000000\n",
            "Number Of Observations Used    31.000000\n",
            "Critical Vlue(1%)              -3.661429\n",
            "Critical Vlue(5%)              -2.960525\n",
            "Critical Vlue(10%)             -2.619319\n",
            "dtype: float64\n",
            " \n"
          ],
          "name": "stdout"
        }
      ]
    },
    {
      "cell_type": "markdown",
      "metadata": {
        "id": "7yWr1J32P23D"
      },
      "source": [
        "We can see that , again, both the test statistics are greater than the critical value. So, we have failed to reject the null hypothesis which state that the data is not stationnary.\n",
        "At this point, we have a non stationaary time series data. "
      ]
    },
    {
      "cell_type": "markdown",
      "metadata": {
        "id": "uoe_QrJkQLwS"
      },
      "source": [
        "Now, we are going to use differencing to remove the moving average or ewm from the original time series."
      ]
    },
    {
      "cell_type": "code",
      "metadata": {
        "colab": {
          "base_uri": "https://localhost:8080/",
          "height": 234
        },
        "id": "7Nabo6SLdN6m",
        "outputId": "93e9e785-ead1-4c0c-b07c-f2b16763a5e2"
      },
      "source": [
        "diff_rol_mean = resample_df - rol_mean\n",
        "diff_rol_mean.dropna(inplace=True)\n",
        "diff_rol_mean.head()"
      ],
      "execution_count": 37,
      "outputs": [
        {
          "output_type": "execute_result",
          "data": {
            "text/html": [
              "<div>\n",
              "<style scoped>\n",
              "    .dataframe tbody tr th:only-of-type {\n",
              "        vertical-align: middle;\n",
              "    }\n",
              "\n",
              "    .dataframe tbody tr th {\n",
              "        vertical-align: top;\n",
              "    }\n",
              "\n",
              "    .dataframe thead th {\n",
              "        text-align: right;\n",
              "    }\n",
              "</style>\n",
              "<table border=\"1\" class=\"dataframe\">\n",
              "  <thead>\n",
              "    <tr style=\"text-align: right;\">\n",
              "      <th></th>\n",
              "      <th>Avg_temp</th>\n",
              "    </tr>\n",
              "    <tr>\n",
              "      <th>Date</th>\n",
              "      <th></th>\n",
              "    </tr>\n",
              "  </thead>\n",
              "  <tbody>\n",
              "    <tr>\n",
              "      <th>1981-12-31</th>\n",
              "      <td>0.028150</td>\n",
              "    </tr>\n",
              "    <tr>\n",
              "      <th>1982-12-31</th>\n",
              "      <td>-0.047992</td>\n",
              "    </tr>\n",
              "    <tr>\n",
              "      <th>1983-12-31</th>\n",
              "      <td>0.120738</td>\n",
              "    </tr>\n",
              "    <tr>\n",
              "      <th>1984-12-31</th>\n",
              "      <td>-0.110695</td>\n",
              "    </tr>\n",
              "    <tr>\n",
              "      <th>1985-12-31</th>\n",
              "      <td>-0.001687</td>\n",
              "    </tr>\n",
              "  </tbody>\n",
              "</table>\n",
              "</div>"
            ],
            "text/plain": [
              "            Avg_temp\n",
              "Date                \n",
              "1981-12-31  0.028150\n",
              "1982-12-31 -0.047992\n",
              "1983-12-31  0.120738\n",
              "1984-12-31 -0.110695\n",
              "1985-12-31 -0.001687"
            ]
          },
          "metadata": {
            "tags": []
          },
          "execution_count": 37
        }
      ]
    },
    {
      "cell_type": "code",
      "metadata": {
        "colab": {
          "base_uri": "https://localhost:8080/",
          "height": 234
        },
        "id": "sLq4GSl5wtJw",
        "outputId": "81f1875f-36bc-4b3f-d7f6-8830f5c8fffa"
      },
      "source": [
        "diff_ewm = resample_df - ewm\n",
        "diff_ewm.dropna(inplace=True)\n",
        "diff_ewm.head()"
      ],
      "execution_count": 38,
      "outputs": [
        {
          "output_type": "execute_result",
          "data": {
            "text/html": [
              "<div>\n",
              "<style scoped>\n",
              "    .dataframe tbody tr th:only-of-type {\n",
              "        vertical-align: middle;\n",
              "    }\n",
              "\n",
              "    .dataframe tbody tr th {\n",
              "        vertical-align: top;\n",
              "    }\n",
              "\n",
              "    .dataframe thead th {\n",
              "        text-align: right;\n",
              "    }\n",
              "</style>\n",
              "<table border=\"1\" class=\"dataframe\">\n",
              "  <thead>\n",
              "    <tr style=\"text-align: right;\">\n",
              "      <th></th>\n",
              "      <th>Avg_temp</th>\n",
              "    </tr>\n",
              "    <tr>\n",
              "      <th>Date</th>\n",
              "      <th></th>\n",
              "    </tr>\n",
              "  </thead>\n",
              "  <tbody>\n",
              "    <tr>\n",
              "      <th>1980-12-31</th>\n",
              "      <td>0.000000</td>\n",
              "    </tr>\n",
              "    <tr>\n",
              "      <th>1981-12-31</th>\n",
              "      <td>0.013988</td>\n",
              "    </tr>\n",
              "    <tr>\n",
              "      <th>1982-12-31</th>\n",
              "      <td>-0.012213</td>\n",
              "    </tr>\n",
              "    <tr>\n",
              "      <th>1983-12-31</th>\n",
              "      <td>0.041662</td>\n",
              "    </tr>\n",
              "    <tr>\n",
              "      <th>1984-12-31</th>\n",
              "      <td>-0.105999</td>\n",
              "    </tr>\n",
              "  </tbody>\n",
              "</table>\n",
              "</div>"
            ],
            "text/plain": [
              "            Avg_temp\n",
              "Date                \n",
              "1980-12-31  0.000000\n",
              "1981-12-31  0.013988\n",
              "1982-12-31 -0.012213\n",
              "1983-12-31  0.041662\n",
              "1984-12-31 -0.105999"
            ]
          },
          "metadata": {
            "tags": []
          },
          "execution_count": 38
        }
      ]
    },
    {
      "cell_type": "markdown",
      "metadata": {
        "id": "-jfnNWwbRRkT"
      },
      "source": [
        "Let's plot the difference graph with the rolling mean and the exponentially weighted mean."
      ]
    },
    {
      "cell_type": "code",
      "metadata": {
        "colab": {
          "base_uri": "https://localhost:8080/",
          "height": 297
        },
        "id": "PQslDpW0xSxZ",
        "outputId": "14a80f98-26af-4c4b-c643-4b0b8a72362f"
      },
      "source": [
        "df_rol_mean_diff= diff_rol_mean.rolling(window=3, center=True).mean()\n",
        "\n",
        "df_ewm_diff= diff_ewm.ewm(span=3).mean()\n",
        "\n",
        "\n",
        "\n",
        "fig, (ax1,ax2)= plt.subplots(1,2,figsize=(10,4))\n",
        "\n",
        "ax1.plot(diff_rol_mean, label='Original')\n",
        "ax1.plot(df_rol_mean_diff,label='Rolling Mean')\n",
        "ax1.set_title(\"Temperature Changes From 1980-2013\", fontsize=14)\n",
        "ax1.set_xlabel('Year',fontsize=12)\n",
        "ax1.set_ylabel('Temperature',fontsize=12)\n",
        "ax1.legend()\n",
        "\n",
        "\n",
        "ax2.plot(diff_ewm, label='Original')\n",
        "ax2.plot(df_ewm_diff,label='Exponentielly weighted mean')\n",
        "ax2.set_title(\"Temperature Changes From 1980-2013\", fontsize=14)\n",
        "ax2.set_xlabel('Year',fontsize=12)\n",
        "ax2.set_ylabel('Temperature',fontsize=12)\n",
        "ax2.legend()\n",
        "\n",
        "\n",
        "plt.tight_layout()\n",
        "plt.show()"
      ],
      "execution_count": 39,
      "outputs": [
        {
          "output_type": "display_data",
          "data": {
            "image/png": "[encoded data removed]",
            "text/plain": [
              "<Figure size 720x288 with 2 Axes>"
            ]
          },
          "metadata": {
            "tags": [],
            "needs_background": "light"
          }
        }
      ]
    },
    {
      "cell_type": "markdown",
      "metadata": {
        "id": "ayI84-o0ZGND"
      },
      "source": [
        "Now, we are going to apply the dickey fuller test and check our hypothesis."
      ]
    },
    {
      "cell_type": "code",
      "metadata": {
        "colab": {
          "base_uri": "https://localhost:8080/"
        },
        "id": "3vt2GE7gymNQ",
        "outputId": "4e5a4154-1a45-42a1-e41b-bedb16b32e01"
      },
      "source": [
        "print('Dickey-Fuller Test for the Rolling Mean:')\n",
        "df_test=adfuller(diff_rol_mean.iloc[:,0].values,autolag='AIC')\n",
        "df_output=pd.Series(df_test[0:4],index=['Test Statistic','p-value','Lags Used', 'Number Of Observations Used'])\n",
        "\n",
        "for key,value in df_test[4].items(): \n",
        "  df_output['Critical Vlue(%s)' %key]=value\n",
        "print(df_output)\n",
        "print(' ')\n",
        "\n",
        "\n",
        "print('Dickey-Fuller Test for the Exponentially Weighted Mean:')\n",
        "df_test=adfuller(diff_ewm.iloc[:,0].values,autolag='AIC')\n",
        "df_output=pd.Series(df_test[0:4],index=['Test Statistic','p-value','Lags Used', 'Number Of Observations Used'])\n",
        "\n",
        "for key,value in df_test[4].items(): \n",
        "  df_output['Critical Vlue(%s)' %key]=value\n",
        "print(df_output)\n",
        "print(' ')"
      ],
      "execution_count": 41,
      "outputs": [
        {
          "output_type": "stream",
          "text": [
            "Dickey-Fuller Test for the Rolling Mean:\n",
            "Test Statistic                 -5.098756\n",
            "p-value                         0.000014\n",
            "Lags Used                       3.000000\n",
            "Number Of Observations Used    28.000000\n",
            "Critical Vlue(1%)              -3.688926\n",
            "Critical Vlue(5%)              -2.971989\n",
            "Critical Vlue(10%)             -2.625296\n",
            "dtype: float64\n",
            " \n",
            "Dickey-Fuller Test for the Exponentially Weighted Mean:\n",
            "Test Statistic                -6.928726e+00\n",
            "p-value                        1.098080e-09\n",
            "Lags Used                      1.000000e+00\n",
            "Number Of Observations Used    3.200000e+01\n",
            "Critical Vlue(1%)             -3.653520e+00\n",
            "Critical Vlue(5%)             -2.957219e+00\n",
            "Critical Vlue(10%)            -2.617588e+00\n",
            "dtype: float64\n",
            " \n"
          ],
          "name": "stdout"
        }
      ]
    },
    {
      "cell_type": "markdown",
      "metadata": {
        "id": "5uhg-isIZaBp"
      },
      "source": [
        "So, here we can see in both cases that test statistics is less than critical value for both rolling mean and exponentially weighted mean.\n",
        "This indicates that we can reject the null hypothesis and we are confident that the data is now stationnary. "
      ]
    },
    {
      "cell_type": "markdown",
      "metadata": {
        "id": "_qviCRIQaPbP"
      },
      "source": [
        "#Reviewing SARIMA with ACF and PACF "
      ]
    },
    {
      "cell_type": "markdown",
      "metadata": {
        "id": "b3orRNSIaWTT"
      },
      "source": [
        "We are going to review how we can find the parameters for seasonal autoregressive integrated moving average. \n",
        "It has parameters p, d and q which are autoregressive, integrated and moving average. \n",
        "So, to determine p and q parameters we are going to use autocorrestion function and partial autocorrection function. "
      ]
    },
    {
      "cell_type": "code",
      "metadata": {
        "colab": {
          "base_uri": "https://localhost:8080/",
          "height": 336
        },
        "id": "hVxA0pDl0Dbk",
        "outputId": "f931198c-b02c-4625-b50b-286a367fe7c6"
      },
      "source": [
        "from statsmodels.graphics.tsaplots import plot_acf\n",
        "from statsmodels.graphics.tsaplots import plot_pacf\n",
        "from matplotlib import pyplot \n",
        "\n",
        "pyplot.figure(figsize=(10,5))\n",
        "pyplot.subplot(211)\n",
        "plot_acf(resample_df,ax=pyplot.gca())\n",
        "\n",
        "pyplot.subplot(212)\n",
        "plot_pacf(resample_df,ax=pyplot.gca())\n",
        "\n",
        "pyplot.show()"
      ],
      "execution_count": null,
      "outputs": [
        {
          "output_type": "display_data",
          "data": {
            "image/png": "[encoded data removed]",
            "text/plain": [
              "<Figure size 720x360 with 2 Axes>"
            ]
          },
          "metadata": {
            "tags": [],
            "needs_background": "light"
          }
        }
      ]
    },
    {
      "cell_type": "markdown",
      "metadata": {
        "id": "tqSs_iABbuxF"
      },
      "source": [
        "So, here the p parameter will be the first value on partial autocorrection graph that is significally different from the previous values. \n",
        "The q parameter is the largest lag on the autocorrection plot that is significantly different from previous values. Hence, q could be 0 as there is no significant lag here.\n",
        "Next, the d parameter will be the number of differences taken to make the time series stationnary. "
      ]
    },
    {
      "cell_type": "code",
      "metadata": {
        "id": "iz1x_L111d3f"
      },
      "source": [
        ""
      ],
      "execution_count": null,
      "outputs": []
    }
  ]
}